{
 "cells": [
  {
   "cell_type": "markdown",
   "metadata": {},
   "source": [
    "# Introducción\n",
    "\n",
    "Este repositorio contiene clases de matemáticas y física enfocadas en su aprendizaje mediante Python.\n",
    "\n",
    "Para ver los contenidos, dirígete al [**Indice**](notebooks/indice.ipynb)\n",
    "\n",
    "## Instrucciones\n",
    "\n",
    "### Para ejecutar mediante VisualStudioCode\n",
    "\n",
    "Para comenzar debes instalar [Visual Studio Code](https://code.visualstudio.com/download) o su variante [VsCodium](https://vscodium.com/).\n",
    "\n",
    "Después de instalar VSCode, debes instalar la [extension de Python](https://marketplace.visualstudio.com/items?itemName=ms-python.python).\n",
    "\n",
    "Para abrir los notebooks solo navega por las carpetas y VSCode abrirá automáticamente los ficheros *.ipynb\n",
    "\n",
    "### Para ejecutar mediante Google Colab\n",
    "\n",
    "TODO\n",
    "clonar en drive\n",
    "\n",
    "### Para ejecutar jupyter mediante docker\n",
    "\n",
    "Para comenzar debes [instalar](https://docs.docker.com/get-docker/) docker. \n",
    "\n",
    "Luego correr mediante docker la imagen `jupyter/scipy-notebook` para poder visualizar los cuadernos (notebooks) de jupyter. Usar el siguiente comando:\n",
    "\n",
    "    # para iniciar el contenedor en modo interactivo\n",
    "    docker run \\\n",
    "        --rm \\\n",
    "        --tty \\\n",
    "        --interactive \\\n",
    "        --name jupyter \\\n",
    "        --publish 8888:8888 \\\n",
    "        --volume /$PWD/notebooks:/home/jovyan/notebooks \\\n",
    "        jupyter/scipy-notebook \\\n",
    "        start-notebook.sh \\\n",
    "        --NotebookApp.notebook_dir=notebooks\n",
    "\n",
    "Luego en tu navegador ingresa a la url http://localhost:8888. Para obtener el token debes buscar en el historial de tu consola un texto similar a:\n",
    "\n",
    "    To access the notebook, open this file in a browser:\n",
    "        file:///home/jovyan/.local/share/jupyter/runtime/nbserver-6-open.html\n",
    "    Or copy and paste one of these URLs:\n",
    "        http://127.0.0.1:8888/?token=<token>\n",
    "\n",
    "Donde el token se encuentra en la posición en `<token>`. Si ejecutaste el contener con la opción `--detached` puedes ver el token con:\n",
    "\n",
    "    docker container logs jupyter\n"
   ]
  }
 ],
 "metadata": {
  "kernelspec": {
   "display_name": "Python 3",
   "language": "python",
   "name": "python3"
  },
  "language_info": {
   "codemirror_mode": {
    "name": "ipython",
    "version": 3
   },
   "file_extension": ".py",
   "mimetype": "text/x-python",
   "name": "python",
   "nbconvert_exporter": "python",
   "pygments_lexer": "ipython3",
   "version": "3.8.5"
  }
 },
 "nbformat": 4,
 "nbformat_minor": 2
}
