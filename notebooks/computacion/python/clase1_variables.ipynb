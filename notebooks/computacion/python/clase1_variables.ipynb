{
 "metadata": {
  "language_info": {
   "codemirror_mode": {
    "name": "ipython",
    "version": 3
   },
   "file_extension": ".py",
   "mimetype": "text/x-python",
   "name": "python",
   "nbconvert_exporter": "python",
   "pygments_lexer": "ipython3",
   "version": "3.8.5-final"
  },
  "orig_nbformat": 2,
  "kernelspec": {
   "name": "Python 3.8.5 32-bit",
   "display_name": "Python 3.8.5 32-bit",
   "metadata": {
    "interpreter": {
     "hash": "770994198ebab68008804afc266723fde29c49136b6390748c7155cb9b94349b"
    }
   }
  }
 },
 "nbformat": 4,
 "nbformat_minor": 2,
 "cells": [
  {
   "source": [
    "# Variables y funciones introduccion"
   ],
   "cell_type": "markdown",
   "metadata": {}
  },
  {
   "source": [
    "Una variable en programacion es algo donde podemos guardar nombres o valores, incluso imagenes enteras o graficos.\n",
    "\n",
    "Piensa en las variables como cajas, en las cuales guardamos cosas asi:\n",
    "\n",
    "$variable = contenido$"
   ],
   "cell_type": "markdown",
   "metadata": {}
  },
  {
   "cell_type": "code",
   "execution_count": 11,
   "metadata": {},
   "outputs": [],
   "source": [
    "a = 'pablo' # puede contener palabras\n",
    "b = 128 #numeros\n",
    "c = 3.1415\n",
    "d = [1,2,3,4] #listas de cosas\n",
    "e = 'hola'"
   ]
  },
  {
   "source": [
    "es buena idea darles nombres descriptivos para saber que significan a la hora de que leamos nuestro codigo"
   ],
   "cell_type": "markdown",
   "metadata": {}
  },
  {
   "cell_type": "code",
   "execution_count": 12,
   "metadata": {},
   "outputs": [],
   "source": [
    "nombre = a\n",
    "numero = b\n",
    "pi = c\n",
    "lista = d\n",
    "saludo = e"
   ]
  },
  {
   "source": [
    "Fijate que le hemos 'asignado' la variable a otra variable, de vuelta a las cajas, estamos guardando las cosas en cajas con nombres para no tener que recordar que es, y poder hacer el codigo general, osea que funcione con varios varoles sin tener que cambiar todo.\n",
    "\n",
    "Podemos saber que tiene una caja con una funcion de programacion, que toma la caja y nos muestra que tiene dentro, se llama $print()$ y dentro de los parentesis escribes la caja"
   ],
   "cell_type": "markdown",
   "metadata": {}
  },
  {
   "cell_type": "code",
   "execution_count": 13,
   "metadata": {
    "tags": []
   },
   "outputs": [
    {
     "output_type": "stream",
     "name": "stdout",
     "text": "pablo\n"
    }
   ],
   "source": [
    "print(nombre) "
   ]
  },
  {
   "cell_type": "code",
   "execution_count": 14,
   "metadata": {
    "tags": []
   },
   "outputs": [
    {
     "output_type": "stream",
     "name": "stdout",
     "text": "3.1415 [1, 2, 3, 4]\n"
    }
   ],
   "source": [
    "print(pi,lista) "
   ]
  },
  {
   "cell_type": "code",
   "execution_count": 17,
   "metadata": {
    "tags": []
   },
   "outputs": [
    {
     "output_type": "stream",
     "name": "stdout",
     "text": "hola pablo\n"
    }
   ],
   "source": [
    "print(saludo, nombre)"
   ]
  },
  {
   "cell_type": "code",
   "execution_count": 19,
   "metadata": {
    "tags": []
   },
   "outputs": [
    {
     "output_type": "stream",
     "name": "stdout",
     "text": "hola\npablo\n"
    }
   ],
   "source": [
    "print(saludo)\n",
    "print(nombre) #escribirlos asi producie un salto de linea"
   ]
  },
  {
   "source": [
    "# Crear tus funciones para imprimir\n",
    "Digamos que queremos construir un emparedado, sandwich, como lo conozcas, partimos definiendo los ingredientes"
   ],
   "cell_type": "markdown",
   "metadata": {}
  },
  {
   "cell_type": "code",
   "execution_count": 20,
   "metadata": {},
   "outputs": [],
   "source": [
    "# ingredientes\n",
    "pan = 'pan intgral' \n",
    "veg = 'lechuga' # veg por vegetal\n",
    "salsa = 'mayonesa'\n",
    "nucleo = 'queso'\n",
    "agregado = 'pepinillos'"
   ]
  },
  {
   "cell_type": "code",
   "execution_count": 21,
   "metadata": {},
   "outputs": [],
   "source": [
    "# para crear una funcion\n",
    "def f(x):\n",
    "    print(x)"
   ]
  },
  {
   "cell_type": "code",
   "execution_count": 22,
   "metadata": {
    "tags": []
   },
   "outputs": [
    {
     "output_type": "stream",
     "name": "stdout",
     "text": "pan intgral\n"
    }
   ],
   "source": [
    "# entonces f() nos muestra que llevan las cajas\n",
    "f(pan)"
   ]
  },
  {
   "cell_type": "code",
   "execution_count": 23,
   "metadata": {},
   "outputs": [],
   "source": [
    "# creemos la funcion que buscamos\n",
    "def hacer_pan():\n",
    "    print(pan)\n",
    "    print(agregado)\n",
    "    print(salsa)\n",
    "    print(nucleo)\n",
    "    print(veg)\n",
    "    print(pan)\n",
    "    # puede ser tan larga y complicada como quieras"
   ]
  },
  {
   "source": [
    "hacer_pan() #asi se corre una funcion aun si no tiene nada"
   ],
   "cell_type": "markdown",
   "metadata": {
    "tags": []
   }
  },
  {
   "cell_type": "code",
   "execution_count": 26,
   "metadata": {
    "tags": []
   },
   "outputs": [
    {
     "output_type": "stream",
     "name": "stdout",
     "text": "felicidades!\n"
    }
   ],
   "source": [
    "print\n",
    "('felicidades!') #tambien puede imprimir lo que le indiques"
   ]
  },
  {
   "source": [
    "El poder de una variable, es el siguiente, digamos no me gusta el pan integral y prefiero un italiano"
   ],
   "cell_type": "markdown",
   "metadata": {}
  },
  {
   "cell_type": "code",
   "execution_count": 27,
   "metadata": {
    "tags": []
   },
   "outputs": [
    {
     "output_type": "stream",
     "name": "stdout",
     "text": "pan italiano\npepinillos\nmayonesa\nqueso\nlechuga\npan italiano\n"
    }
   ],
   "source": [
    "pan = 'pan italiano'\n",
    "hacer_pan() # fijate que el valor se actualiza"
   ]
  },
  {
   "source": [
    "# Ejercicio 1\n",
    "Crea una funcion hacer_pan() que te de 2 pisos al sandwich y elige tus ingredientes favoritos"
   ],
   "cell_type": "markdown",
   "metadata": {}
  },
  {
   "cell_type": "code",
   "execution_count": null,
   "metadata": {},
   "outputs": [],
   "source": [
    "# ingredientes\n",
    "pan = 'pan intgral'\n",
    "veg = 'lechuga' # veg por vegetal\n",
    "salsa = 'mayonesa'\n",
    "nucleo = 'queso'\n",
    "agregado = 'pepinillos'"
   ]
  },
  {
   "cell_type": "code",
   "execution_count": null,
   "metadata": {},
   "outputs": [],
   "source": [
    "def hacer_pan2():\n",
    "    print(pan)\n",
    "\n",
    "    print(pan)"
   ]
  },
  {
   "source": [
    "# Ejercicio 2\n",
    "Crea una lista de compras, que sean:\n",
    "\n",
    "numero: elemento\n",
    "\n",
    "Puedes imprimir un numero y un elemento asi:\n",
    "print(numero,':',elemento)"
   ],
   "cell_type": "markdown",
   "metadata": {}
  },
  {
   "cell_type": "code",
   "execution_count": 29,
   "metadata": {
    "tags": []
   },
   "outputs": [
    {
     "output_type": "stream",
     "name": "stdout",
     "text": "2 : pan italiano\n"
    }
   ],
   "source": [
    "print(2,':',pan)"
   ]
  },
  {
   "cell_type": "code",
   "execution_count": null,
   "metadata": {},
   "outputs": [],
   "source": []
  }
 ]
}