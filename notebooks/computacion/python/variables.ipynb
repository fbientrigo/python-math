{
 "metadata": {
  "language_info": {
   "codemirror_mode": {
    "name": "ipython",
    "version": 3
   },
   "file_extension": ".py",
   "mimetype": "text/x-python",
   "name": "python",
   "nbconvert_exporter": "python",
   "pygments_lexer": "ipython3",
   "version": "3.8.5-final"
  },
  "orig_nbformat": 2,
  "kernelspec": {
   "name": "Python 3.8.5 32-bit",
   "display_name": "Python 3.8.5 32-bit",
   "metadata": {
    "interpreter": {
     "hash": "770994198ebab68008804afc266723fde29c49136b6390748c7155cb9b94349b"
    }
   }
  }
 },
 "nbformat": 4,
 "nbformat_minor": 2,
 "cells": [
  {
   "source": [
    "# Variables"
   ],
   "cell_type": "markdown",
   "metadata": {}
  },
  {
   "source": [
    "Tengamos el siguiente problema:\n",
    "Tengo un auto que va corriendo a $6 m/s$ (6 metros en cada segundo), como puedo inventarme una maquina tal que si le doy el tiempo me entregue la posicion en metros?"
   ],
   "cell_type": "markdown",
   "metadata": {}
  },
  {
   "source": [
    "Lo que se hace es lo siguiente, pensemos en que $t$ sea el tiempo que lleva corriendo, podemos reemplazar $t$ por cualquier numero. \n",
    "Puede ser $t=0$ en cuyo caso la funcion nos dara el lugar donde se encuentra el auto al inicio."
   ],
   "cell_type": "markdown",
   "metadata": {}
  },
  {
   "source": [],
   "cell_type": "markdown",
   "metadata": {}
  }
 ]
}