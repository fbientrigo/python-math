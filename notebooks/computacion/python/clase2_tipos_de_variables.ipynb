{
 "metadata": {
  "language_info": {
   "codemirror_mode": {
    "name": "ipython",
    "version": 3
   },
   "file_extension": ".py",
   "mimetype": "text/x-python",
   "name": "python",
   "nbconvert_exporter": "python",
   "pygments_lexer": "ipython3",
   "version": "3.8.5-final"
  },
  "orig_nbformat": 2,
  "kernelspec": {
   "name": "Python 3.8.5 32-bit",
   "display_name": "Python 3.8.5 32-bit",
   "metadata": {
    "interpreter": {
     "hash": "770994198ebab68008804afc266723fde29c49136b6390748c7155cb9b94349b"
    }
   }
  }
 },
 "nbformat": 4,
 "nbformat_minor": 2,
 "cells": [
  {
   "source": [
    "# Tipos de Variables"
   ],
   "cell_type": "markdown",
   "metadata": {}
  },
  {
   "source": [
    "Para una computadora son todos 1's y 0's, entonces lo que ve como 01000001 puede ser la letra 'A' o el numero 65, para que no exista duda la computadora debe saber si se trata de letras, de numeros enteros, o numeros decimales, etc...\n",
    "\n",
    "Necesitaras conocer estos tipos de datos:\n",
    "\n",
    "str = 'string' = 'alguna palabra o letra'\n",
    "\n",
    "int = 'integer' = 1234 (numero entero)\n",
    "\n",
    "float = 'floating point number' = 1.234 (numero con decimales)\n",
    "\n",
    "list = 'lista' = \\[1,2,'pablo',1.2,3]\n",
    "\n",
    "\n",
    "Podemos conocer el tipo con type()\n"
   ],
   "cell_type": "markdown",
   "metadata": {}
  },
  {
   "cell_type": "code",
   "execution_count": 1,
   "metadata": {},
   "outputs": [
    {
     "output_type": "execute_result",
     "data": {
      "text/plain": "str"
     },
     "metadata": {},
     "execution_count": 1
    }
   ],
   "source": [
    "# Podemos conocer el tipo de lo que contiene cada variables\n",
    "# es mirar dentro de la caja y decirnos el tipo\n",
    "a = 'hola pablo'\n",
    "type(a)"
   ]
  },
  {
   "cell_type": "code",
   "execution_count": 2,
   "metadata": {},
   "outputs": [
    {
     "output_type": "execute_result",
     "data": {
      "text/plain": "int"
     },
     "metadata": {},
     "execution_count": 2
    }
   ],
   "source": [
    "b = 1234\n",
    "type(b)"
   ]
  },
  {
   "cell_type": "code",
   "execution_count": 3,
   "metadata": {},
   "outputs": [
    {
     "output_type": "execute_result",
     "data": {
      "text/plain": "float"
     },
     "metadata": {},
     "execution_count": 3
    }
   ],
   "source": [
    "c = 1.234\n",
    "type(c)"
   ]
  },
  {
   "cell_type": "code",
   "execution_count": 6,
   "metadata": {},
   "outputs": [
    {
     "output_type": "execute_result",
     "data": {
      "text/plain": "list"
     },
     "metadata": {},
     "execution_count": 6
    }
   ],
   "source": [
    "ls = [1,2,3,4,'pablo']\n",
    "type(ls)"
   ]
  },
  {
   "source": [
    "La mayoria de las veces no queremos hacer operaciones entre dos tipos distintos"
   ],
   "cell_type": "markdown",
   "metadata": {}
  },
  {
   "cell_type": "code",
   "execution_count": 10,
   "metadata": {},
   "outputs": [
    {
     "output_type": "error",
     "ename": "TypeError",
     "evalue": "can only concatenate str (not \"int\") to str",
     "traceback": [
      "\u001b[1;31m---------------------------------------------------------------------------\u001b[0m",
      "\u001b[1;31mTypeError\u001b[0m                                 Traceback (most recent call last)",
      "\u001b[1;32m<ipython-input-10-4ff18833e1e7>\u001b[0m in \u001b[0;36m<module>\u001b[1;34m\u001b[0m\n\u001b[0;32m      2\u001b[0m \u001b[0mnum1\u001b[0m \u001b[1;33m=\u001b[0m \u001b[1;36m3\u001b[0m\u001b[1;33m\u001b[0m\u001b[1;33m\u001b[0m\u001b[0m\n\u001b[0;32m      3\u001b[0m \u001b[1;33m\u001b[0m\u001b[0m\n\u001b[1;32m----> 4\u001b[1;33m \u001b[0mres\u001b[0m \u001b[1;33m=\u001b[0m \u001b[0mstr1\u001b[0m \u001b[1;33m+\u001b[0m \u001b[0mnum1\u001b[0m\u001b[1;33m\u001b[0m\u001b[1;33m\u001b[0m\u001b[0m\n\u001b[0m",
      "\u001b[1;31mTypeError\u001b[0m: can only concatenate str (not \"int\") to str"
     ]
    }
   ],
   "source": [
    "str1 = 'soy una oracion'\n",
    "num1 = 3\n",
    "\n",
    "res = str1 + num1\n",
    "# sumar entre un string y un numero no tiene sentido\n",
    "# dara error"
   ]
  },
  {
   "cell_type": "code",
   "execution_count": 13,
   "metadata": {
    "tags": []
   },
   "outputs": [
    {
     "output_type": "stream",
     "name": "stdout",
     "text": "soy una oracion soy otra oracion\n"
    }
   ],
   "source": [
    "str1 = 'soy una oracion'\n",
    "str2 = ' soy otra oracion'\n",
    "\n",
    "res = str1 + str2\n",
    "print(res)\n",
    "# sumar strings es como poner una tras otra"
   ]
  },
  {
   "cell_type": "code",
   "execution_count": 9,
   "metadata": {
    "tags": []
   },
   "outputs": [
    {
     "output_type": "stream",
     "name": "stdout",
     "text": "<class 'float'> 1.1\n"
    }
   ],
   "source": [
    "num1 = 1 #int\n",
    "num2 = 0.1 #float\n",
    "\n",
    "res = num1 + num2\n",
    "print(type(res), res) # nos dice que es un flotante, y el resultado\n",
    "# se ha quedado el tipo mas general, float incluye a los enteros"
   ]
  },
  {
   "cell_type": "code",
   "execution_count": null,
   "metadata": {},
   "outputs": [],
   "source": []
  }
 ]
}