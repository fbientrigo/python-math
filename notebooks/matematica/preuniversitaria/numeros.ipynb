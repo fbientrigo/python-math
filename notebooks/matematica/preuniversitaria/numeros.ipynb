{
 "cells": [
  {
   "cell_type": "markdown",
   "metadata": {},
   "source": [
    "# Números\n",
    "\n",
    "Los numeros se clasifican por sus propiedades en conjuntos, llamadados \"Conjuntos numéricos\". Cada conjunto numérico está contenido dentro de otro con excepción de los *Números complejos*. A continuación un diagrama que muestra los conjuntos y su relación:\n",
    "\n",
    "![conjuntos](recursos/conjunto_numeros.png)\n",
    "\n",
    "A continuacion veremos las propiedades de estos conjuntos y como representarlos en Python."
   ]
  },
  {
   "cell_type": "markdown",
   "metadata": {},
   "source": [
    "## Números naturales\n",
    "\n",
    "Los numeros naturales nacen debido a la necesidad de contar. Este conjunto está definido por:\n",
    "\n",
    "$$\\mathbb{N} = \\{1, 2, 3, 4, 5, ...\\}$$\n",
    "\n",
    "Su representación en Python es la siguiente:"
   ]
  },
  {
   "cell_type": "code",
   "execution_count": 1,
   "metadata": {},
   "outputs": [
    {
     "data": {
      "text/plain": [
       "2"
      ]
     },
     "execution_count": 1,
     "metadata": {},
     "output_type": "execute_result"
    }
   ],
   "source": [
    "2"
   ]
  },
  {
   "cell_type": "markdown",
   "metadata": {},
   "source": [
    "## Números cardinales y enteros\n",
    "\n",
    "Los numeros cardinales $\\mathbb{N}^*$ incluyen el elemento neutro 0, Mientras que los enteros $\\mathbb{Z}$ incluyen los elementos negativos. Se pueden definir como:\n",
    "\n",
    "$$\\mathbb{N}^* = \\{0, 1, 2, 3, 4, 5, ...\\}$$\n",
    "$$\\mathbb{Z} = \\{..., -3, -2, -1, 0, 1, 2, 3, 4, 5, ...\\}$$\n",
    "\n",
    "El conjunto de los números enteros $\\mathbb{Z}$ incluye ($\\subset$) a los naturales $\\mathbb{N}$:\n",
    "\n",
    "$$\\mathbb{N} \\subset \\mathbb{Z}$$\n",
    "\n",
    "Esto se lee *el conjunto de los naturales es subconjunto de los enteros*\n",
    "\n",
    "Su representación en Python es la siguiente:"
   ]
  },
  {
   "cell_type": "code",
   "execution_count": 2,
   "metadata": {},
   "outputs": [
    {
     "data": {
      "text/plain": [
       "(-1, 0, 3)"
      ]
     },
     "execution_count": 2,
     "metadata": {},
     "output_type": "execute_result"
    }
   ],
   "source": [
    "-1, 0, 3"
   ]
  },
  {
   "cell_type": "markdown",
   "metadata": {},
   "source": [
    "### Operaciones con números enteros\n",
    "\n",
    "Algunas de las operaciones que se pueden hacer con numeros enteros."
   ]
  },
  {
   "cell_type": "code",
   "execution_count": 3,
   "metadata": {},
   "outputs": [
    {
     "data": {
      "text/plain": [
       "2"
      ]
     },
     "execution_count": 3,
     "metadata": {},
     "output_type": "execute_result"
    }
   ],
   "source": [
    "1 + 1"
   ]
  },
  {
   "cell_type": "code",
   "execution_count": null,
   "metadata": {},
   "outputs": [],
   "source": []
  }
 ],
 "metadata": {
  "kernelspec": {
   "display_name": "Python 3",
   "language": "python",
   "name": "python3"
  },
  "language_info": {
   "codemirror_mode": {
    "name": "ipython",
    "version": 3
   },
   "file_extension": ".py",
   "mimetype": "text/x-python",
   "name": "python",
   "nbconvert_exporter": "python",
   "pygments_lexer": "ipython3",
   "version": "3.8.5"
  }
 },
 "nbformat": 4,
 "nbformat_minor": 4
}
