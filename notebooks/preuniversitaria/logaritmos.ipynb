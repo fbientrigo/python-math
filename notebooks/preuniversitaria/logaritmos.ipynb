{
 "cells": [
  {
   "source": [
    "# Logaritmos\n",
    "\n",
    "El logaritmo correspone al exponente de una potencia."
   ],
   "cell_type": "markdown",
   "metadata": {}
  },
  {
   "cell_type": "markdown",
   "metadata": {},
   "source": [
    "## Propiedades\n",
    "\n",
    "Sumar logaritmos de igual base\n",
    "\n",
    "$log_ab + log_a c = log_{a}(b \\cdot c)$\n",
    "\n"
   ]
  }
 ],
 "metadata": {
  "kernelspec": {
   "display_name": "Python 3",
   "language": "python",
   "name": "python3"
  },
  "language_info": {
   "codemirror_mode": {
    "name": "ipython",
    "version": 3
   },
   "file_extension": ".py",
   "mimetype": "text/x-python",
   "name": "python",
   "nbconvert_exporter": "python",
   "pygments_lexer": "ipython3",
   "version": "3.8.2-final"
  }
 },
 "nbformat": 4,
 "nbformat_minor": 4
}